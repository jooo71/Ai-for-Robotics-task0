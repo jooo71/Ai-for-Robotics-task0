{
 "cells": [
  {
   "cell_type": "markdown",
   "metadata": {},
   "source": [
    "# From Scratch and Sklearn Implementation for the Radius Nearest Neighbor Classifier"
   ]
  },
  {
   "cell_type": "markdown",
   "metadata": {},
   "source": [
    "### General Packages"
   ]
  },
  {
   "cell_type": "code",
   "execution_count": 372,
   "metadata": {},
   "outputs": [],
   "source": [
    "import pandas as pd\n",
    "import numpy as np\n",
    "import matplotlib.pyplot as plt\n",
    "import seaborn as sns\n",
    "%matplotlib inline"
   ]
  },
  {
   "cell_type": "markdown",
   "metadata": {},
   "source": [
    "### Load the Data"
   ]
  },
  {
   "cell_type": "code",
   "execution_count": 373,
   "metadata": {},
   "outputs": [],
   "source": [
    "df = pd.read_csv('Prostate_Cancer_Preprocessed.csv')"
   ]
  },
  {
   "cell_type": "markdown",
   "metadata": {},
   "source": [
    "# From Scratch RNN"
   ]
  },
  {
   "cell_type": "markdown",
   "metadata": {},
   "source": [
    "### Important Packages"
   ]
  },
  {
   "cell_type": "code",
   "execution_count": 374,
   "metadata": {},
   "outputs": [],
   "source": [
    "from scipy.stats import mode"
   ]
  },
  {
   "cell_type": "markdown",
   "metadata": {},
   "source": [
    "### Functions"
   ]
  },
  {
   "cell_type": "code",
   "execution_count": 375,
   "metadata": {},
   "outputs": [],
   "source": [
    "# Function to make standardization for the data\n",
    "def standardization(x):\n",
    "    mean = np.mean(x, axis=0)\n",
    "    std = np.std(x, axis=0)\n",
    "    x_standardized = ((x - mean) / std)\n",
    "    \n",
    "    return x_standardized"
   ]
  },
  {
   "cell_type": "code",
   "execution_count": 376,
   "metadata": {},
   "outputs": [],
   "source": [
    "def split(data, random_state, test_size):\n",
    "    # Set the random seed for reproducibility\n",
    "    np.random.seed(random_state)\n",
    "\n",
    "    # Shuffle the indices of the DataFrame\n",
    "    shuffled_indices = np.random.permutation(len(data))\n",
    "\n",
    "    # Calculate the number of samples for testing\n",
    "    num_test_samples = int(test_size * len(data))\n",
    "\n",
    "    # Select the first num_test_samples indices for testing\n",
    "    test_indices = shuffled_indices[:num_test_samples]\n",
    "\n",
    "    # Select the remaining indices for training\n",
    "    train_indices = shuffled_indices[num_test_samples:]\n",
    "\n",
    "    # Split the Data into training and testing\n",
    "    train = data[train_indices]\n",
    "    test = data[test_indices]\n",
    "    \n",
    "    return train , test"
   ]
  },
  {
   "cell_type": "code",
   "execution_count": 377,
   "metadata": {},
   "outputs": [],
   "source": [
    "def evaluation(predicted , true):\n",
    "    TP = 0\n",
    "    FP = 0\n",
    "    TN = 0\n",
    "    FN = 0\n",
    "    conf_matrix = np.zeros((2,2))\n",
    "\n",
    "    for i in range(len(true)):\n",
    "        # 1=positive, 0=negative\n",
    "        if int(predicted[i])==1 and int(true[i])==1:\n",
    "            # TRUE POSITIVE\n",
    "            TP += 1\n",
    "\n",
    "        elif int(predicted[i])==1 and int(true[i])==0:\n",
    "            # FALSE POSITIVE\n",
    "            FP += 1\n",
    "\n",
    "        elif int(predicted[i])==0 and int(true[i])==0:\n",
    "            # TRUE NEGATIVE\n",
    "            TN += 1\n",
    "\n",
    "        elif int(predicted[i])==0 and int(true[i])==1:\n",
    "            # FALSE NEGATIVE\n",
    "            FN += 1\n",
    "    \n",
    "    conf_matrix[0,0] = TN\n",
    "    conf_matrix[0,1] = FP\n",
    "    conf_matrix[1,0] = FN\n",
    "    conf_matrix[1,1] = TP\n",
    "\n",
    "    accuracy = (TP+TN) / (TP+TN+FP+FN)\n",
    "    recall = TP / (TP + FN)\n",
    "    precision = TP / (TP + FP)\n",
    "    specificity = TN / (TN + FP)\n",
    "    f1 = 2*(precision*recall) / (precision+recall)\n",
    "    \n",
    "    return conf_matrix, accuracy, recall, precision, specificity, f1"
   ]
  },
  {
   "cell_type": "code",
   "execution_count": 378,
   "metadata": {},
   "outputs": [],
   "source": [
    "def plot_confusion(cf_matrix,title):\n",
    "    fig,ax = plt.subplots()\n",
    "    group_names = ['TN','FP','FN','TP']\n",
    "    #group_names = ['TP','TN','FN','TN']\n",
    "    group_counts = [\"{0:0.0f}\".format(value) for value in\n",
    "                    cf_matrix.flatten()]\n",
    "    group_percentages = [\"{0:.2%}\".format(value) for value in\n",
    "                         cf_matrix.flatten()/np.sum(cf_matrix)]\n",
    "    labels = [f\"{v1}\\n{v2}\\n{v3}\" for v1, v2, v3 in\n",
    "              zip(group_names,group_counts,group_percentages)]\n",
    "    labels = np.asarray(labels).reshape(2,2)\n",
    "    sns.heatmap(cf_matrix, annot=labels, fmt='', cmap='Blues',ax=ax)\n",
    "    ax.set_xlabel('Predicted')\n",
    "    ax.set_ylabel(\"True\")\n",
    "    ax.set_title(title)"
   ]
  },
  {
   "cell_type": "code",
   "execution_count": 379,
   "metadata": {},
   "outputs": [],
   "source": [
    "# Function to calculate the euclidean distance between the sample point and the training data\n",
    "def euclideanDistance(x_train, sample):\n",
    "    return np.sqrt( np.sum( np.square( sample - x_train ) ) )"
   ]
  },
  {
   "cell_type": "code",
   "execution_count": 380,
   "metadata": {},
   "outputs": [],
   "source": [
    "# Function to search for the training points within the radius and return their target value\n",
    "def findNeighbors(X_train, y_train, test, radius):\n",
    "    # A list to store the target value of the neighbor points within the radius\n",
    "    neighbors = []\n",
    "\n",
    "    # Get the number of instances(rows) in the train data\n",
    "    no_instances, no_features = X_train.shape\n",
    "\n",
    "    # Loop on the whole train data\n",
    "    for i in range(no_instances):\n",
    "        \n",
    "        # Calculate the euclidean distance between the test point and the specified train data\n",
    "        distance = euclideanDistance(X_train[i], test)\n",
    "\n",
    "        # Check if the distance smaller than the radius so its within the radius so we will append the target value of this specified train data\n",
    "        if distance <= radius:\n",
    "            neighbors.append(y_train[i])\n",
    "    \n",
    "    return np.array(neighbors)"
   ]
  },
  {
   "cell_type": "code",
   "execution_count": 381,
   "metadata": {},
   "outputs": [],
   "source": [
    "# Function to return the prediction value by seeing the most often prediction value in the list\n",
    "def predict(neighbors):\n",
    "    prediction = mode( neighbors )[0][0]\n",
    "    \n",
    "    return prediction"
   ]
  },
  {
   "cell_type": "code",
   "execution_count": 382,
   "metadata": {},
   "outputs": [],
   "source": [
    "# Function to make the whole RNN classifier and return the prediction\n",
    "def radiusNearestNeighbors(X_train, y_train, X_test, radius):\n",
    "    # A list to store the prediction value for each test data point\n",
    "    y_pred = []\n",
    "\n",
    "    # Get the number of instances(rows) in the test data\n",
    "    no_instances, no_features = X_test.shape\n",
    "\n",
    "    # Loop on the whole test data points\n",
    "    for i in range(no_instances):\n",
    "        \n",
    "        # Get the neighbors within the radius\n",
    "        neighbors = findNeighbors(X_train, y_train, X_test[i], radius)\n",
    "\n",
    "        # Get the prediction for this test data point\n",
    "        prediction = predict(neighbors)\n",
    "\n",
    "        # Append the value of the prediction in the list\n",
    "        y_pred.append(prediction)\n",
    "        \n",
    "    return y_pred"
   ]
  },
  {
   "cell_type": "markdown",
   "metadata": {},
   "source": [
    "### Implementation"
   ]
  },
  {
   "cell_type": "code",
   "execution_count": 383,
   "metadata": {},
   "outputs": [],
   "source": [
    "X = df.drop( 'diagnosis_result_M' , axis = 1)\n",
    "y = df[ ['diagnosis_result_M'] ]"
   ]
  },
  {
   "cell_type": "code",
   "execution_count": 384,
   "metadata": {},
   "outputs": [],
   "source": [
    "# Standardizing the data\n",
    "X = standardization(X)"
   ]
  },
  {
   "cell_type": "code",
   "execution_count": 385,
   "metadata": {},
   "outputs": [],
   "source": [
    "X = X.to_numpy()\n",
    "y = y.to_numpy()"
   ]
  },
  {
   "cell_type": "code",
   "execution_count": 386,
   "metadata": {},
   "outputs": [],
   "source": [
    "# Split the data into 80% train and 20% test\n",
    "random_state = 42\n",
    "test_size = 0.2\n",
    "X_train , X_test = split(X, random_state, test_size)\n",
    "y_train , y_test = split(y, random_state, test_size)"
   ]
  },
  {
   "cell_type": "code",
   "execution_count": 387,
   "metadata": {},
   "outputs": [],
   "source": [
    "# Fit the model and Predict\n",
    "radius = 4\n",
    "y_pred = radiusNearestNeighbors(X_train, y_train, X_test, radius)"
   ]
  },
  {
   "cell_type": "markdown",
   "metadata": {},
   "source": [
    "### Evaluation"
   ]
  },
  {
   "cell_type": "code",
   "execution_count": 388,
   "metadata": {},
   "outputs": [
    {
     "name": "stderr",
     "output_type": "stream",
     "text": [
      "C:\\Users\\Misara\\AppData\\Local\\Temp\\ipykernel_9852\\3821088853.py:10: DeprecationWarning: Conversion of an array with ndim > 0 to a scalar is deprecated, and will error in future. Ensure you extract a single element from your array before performing this operation. (Deprecated NumPy 1.25.)\n",
      "  if int(predicted[i])==1 and int(true[i])==1:\n",
      "C:\\Users\\Misara\\AppData\\Local\\Temp\\ipykernel_9852\\3821088853.py:14: DeprecationWarning: Conversion of an array with ndim > 0 to a scalar is deprecated, and will error in future. Ensure you extract a single element from your array before performing this operation. (Deprecated NumPy 1.25.)\n",
      "  elif int(predicted[i])==1 and int(true[i])==0:\n",
      "C:\\Users\\Misara\\AppData\\Local\\Temp\\ipykernel_9852\\3821088853.py:18: DeprecationWarning: Conversion of an array with ndim > 0 to a scalar is deprecated, and will error in future. Ensure you extract a single element from your array before performing this operation. (Deprecated NumPy 1.25.)\n",
      "  elif int(predicted[i])==0 and int(true[i])==0:\n"
     ]
    }
   ],
   "source": [
    "confusion_matrix, accuracy, recall, precision, specificity, f1_score = evaluation(y_pred, y_test)"
   ]
  },
  {
   "cell_type": "code",
   "execution_count": 389,
   "metadata": {},
   "outputs": [],
   "source": [
    "accuracy_sc = round(accuracy*100,2)\n",
    "recall_sc = round(recall*100,2)\n",
    "precision_sc = round(precision*100,2)\n",
    "specificity_sc = round(specificity*100,2)\n",
    "f1_score_sc = round(f1_score,2)"
   ]
  },
  {
   "cell_type": "code",
   "execution_count": 390,
   "metadata": {},
   "outputs": [],
   "source": [
    "header = ['RNN']\n",
    "table = pd.DataFrame( {\"Model\":header,\\\n",
    "                    \"Accuracy(%)\":accuracy_sc, \"Recall(%)\":recall_sc,\\\n",
    "                    \"Precision(%)\":precision_sc, \"Specificity(%)\":specificity_sc,\\\n",
    "                    \"F1 Score\":f1_score_sc\n",
    "                    })"
   ]
  },
  {
   "cell_type": "code",
   "execution_count": 391,
   "metadata": {},
   "outputs": [
    {
     "data": {
      "text/html": [
       "<div>\n",
       "<style scoped>\n",
       "    .dataframe tbody tr th:only-of-type {\n",
       "        vertical-align: middle;\n",
       "    }\n",
       "\n",
       "    .dataframe tbody tr th {\n",
       "        vertical-align: top;\n",
       "    }\n",
       "\n",
       "    .dataframe thead th {\n",
       "        text-align: right;\n",
       "    }\n",
       "</style>\n",
       "<table border=\"1\" class=\"dataframe\">\n",
       "  <thead>\n",
       "    <tr style=\"text-align: right;\">\n",
       "      <th></th>\n",
       "      <th>Model</th>\n",
       "      <th>Accuracy(%)</th>\n",
       "      <th>Recall(%)</th>\n",
       "      <th>Precision(%)</th>\n",
       "      <th>Specificity(%)</th>\n",
       "      <th>F1 Score</th>\n",
       "    </tr>\n",
       "  </thead>\n",
       "  <tbody>\n",
       "    <tr>\n",
       "      <th>0</th>\n",
       "      <td>RNN</td>\n",
       "      <td>85.0</td>\n",
       "      <td>100.0</td>\n",
       "      <td>84.21</td>\n",
       "      <td>25.0</td>\n",
       "      <td>0.91</td>\n",
       "    </tr>\n",
       "  </tbody>\n",
       "</table>\n",
       "</div>"
      ],
      "text/plain": [
       "  Model  Accuracy(%)  Recall(%)  Precision(%)  Specificity(%)  F1 Score\n",
       "0   RNN         85.0      100.0         84.21            25.0      0.91"
      ]
     },
     "execution_count": 391,
     "metadata": {},
     "output_type": "execute_result"
    }
   ],
   "source": [
    "table"
   ]
  },
  {
   "cell_type": "markdown",
   "metadata": {},
   "source": [
    "### Confusion Matrix"
   ]
  },
  {
   "cell_type": "code",
   "execution_count": 392,
   "metadata": {},
   "outputs": [
    {
     "data": {
      "text/plain": [
       "array([[ 1.,  3.],\n",
       "       [ 0., 16.]])"
      ]
     },
     "execution_count": 392,
     "metadata": {},
     "output_type": "execute_result"
    }
   ],
   "source": [
    "confusion_matrix"
   ]
  },
  {
   "cell_type": "code",
   "execution_count": 393,
   "metadata": {},
   "outputs": [
    {
     "data": {
      "image/png": "[encoded data removed]",
      "text/plain": [
       "<Figure size 640x480 with 2 Axes>"
      ]
     },
     "metadata": {},
     "output_type": "display_data"
    }
   ],
   "source": [
    "plot_confusion(confusion_matrix, \"RNN Confusion Matrix\")"
   ]
  },
  {
   "cell_type": "markdown",
   "metadata": {},
   "source": [
    "# Sklearn RNN"
   ]
  },
  {
   "cell_type": "markdown",
   "metadata": {},
   "source": [
    "### Important Packages"
   ]
  },
  {
   "cell_type": "code",
   "execution_count": 394,
   "metadata": {},
   "outputs": [],
   "source": [
    "from sklearn.model_selection import train_test_split \n",
    "from sklearn.neighbors import RadiusNeighborsClassifier\n",
    "from sklearn.preprocessing import StandardScaler\n",
    "from sklearn.model_selection import KFold, cross_val_score\n",
    "from sklearn.metrics import accuracy_score\n",
    "from sklearn.metrics import recall_score\n",
    "from sklearn.metrics import precision_score\n",
    "from sklearn.metrics import f1_score\n",
    "from sklearn.metrics import confusion_matrix"
   ]
  },
  {
   "cell_type": "markdown",
   "metadata": {},
   "source": [
    "### Functions"
   ]
  },
  {
   "cell_type": "code",
   "execution_count": 395,
   "metadata": {},
   "outputs": [],
   "source": [
    "# Function for scaling data\n",
    "def Standard_Scaler (data, col_names):\n",
    "    features = data[col_names]\n",
    "    scaler = StandardScaler().fit(features.values)\n",
    "    features = scaler.transform(features.values)\n",
    "    data[col_names] = features\n",
    "    \n",
    "    return data"
   ]
  },
  {
   "cell_type": "markdown",
   "metadata": {},
   "source": [
    "### Implementation"
   ]
  },
  {
   "cell_type": "code",
   "execution_count": 396,
   "metadata": {},
   "outputs": [],
   "source": [
    "X = df.drop( 'diagnosis_result_M' , axis = 1)\n",
    "y = df[ ['diagnosis_result_M'] ]"
   ]
  },
  {
   "cell_type": "code",
   "execution_count": 397,
   "metadata": {},
   "outputs": [],
   "source": [
    "# Standardizing the data\n",
    "X = Standard_Scaler(X, X.columns)"
   ]
  },
  {
   "cell_type": "code",
   "execution_count": 398,
   "metadata": {},
   "outputs": [],
   "source": [
    "X = X.to_numpy()\n",
    "y = y.to_numpy()"
   ]
  },
  {
   "cell_type": "code",
   "execution_count": 399,
   "metadata": {},
   "outputs": [],
   "source": [
    "# Split the data into 80% train and 20% test\n",
    "X_train, X_test, y_train, y_test = train_test_split(X, y, test_size=0.2, random_state=42)"
   ]
  },
  {
   "cell_type": "code",
   "execution_count": 400,
   "metadata": {},
   "outputs": [
    {
     "name": "stdout",
     "output_type": "stream",
     "text": [
      "Accuracy obtained by RNN models:  85.0\n"
     ]
    }
   ],
   "source": [
    "# Reshape y_train and y_test to (n_samples,)\n",
    "y_train = np.reshape(y_train, (len(y_train),))\n",
    "y_test = np.reshape(y_test, (len(y_test),))\n",
    "\n",
    "# Fit the model with the radius value\n",
    "RNN_model = RadiusNeighborsClassifier(radius= 4)\n",
    "RNN_model.fit(X_train, y_train)\n",
    "\n",
    "# Get the accuracy of the model\n",
    "RNN_score = RNN_model.score(X_test, y_test)\n",
    "\n",
    "# Predict\n",
    "y_pred = RNN_model.predict(X_test)\n",
    "\n",
    "print(\"Accuracy obtained by RNN models: \", RNN_score*100)"
   ]
  },
  {
   "cell_type": "markdown",
   "metadata": {},
   "source": [
    "### Evaluation"
   ]
  },
  {
   "cell_type": "code",
   "execution_count": 401,
   "metadata": {},
   "outputs": [],
   "source": [
    "accuracy_sk = round(accuracy_score(y_test, y_pred)*100, 2)\n",
    "recall_sk = round(recall_score(y_test, y_pred)*100, 2)\n",
    "precision_sk = round(precision_score(y_test, y_pred)*100, 2)\n",
    "f1_score_sk = round(f1_score(y_test, y_pred), 2)"
   ]
  },
  {
   "cell_type": "code",
   "execution_count": 402,
   "metadata": {},
   "outputs": [],
   "source": [
    "header = ['RNN']\n",
    "table = pd.DataFrame( {\"Model\":header,\\\n",
    "                    \"Accuracy(%)\":accuracy_sk, \"Recall(%)\":recall_sk,\\\n",
    "                    \"Precision(%)\":precision_sk, \"F1 Score\":f1_score_sk\n",
    "                    })"
   ]
  },
  {
   "cell_type": "code",
   "execution_count": 403,
   "metadata": {},
   "outputs": [
    {
     "data": {
      "text/html": [
       "<div>\n",
       "<style scoped>\n",
       "    .dataframe tbody tr th:only-of-type {\n",
       "        vertical-align: middle;\n",
       "    }\n",
       "\n",
       "    .dataframe tbody tr th {\n",
       "        vertical-align: top;\n",
       "    }\n",
       "\n",
       "    .dataframe thead th {\n",
       "        text-align: right;\n",
       "    }\n",
       "</style>\n",
       "<table border=\"1\" class=\"dataframe\">\n",
       "  <thead>\n",
       "    <tr style=\"text-align: right;\">\n",
       "      <th></th>\n",
       "      <th>Model</th>\n",
       "      <th>Accuracy(%)</th>\n",
       "      <th>Recall(%)</th>\n",
       "      <th>Precision(%)</th>\n",
       "      <th>F1 Score</th>\n",
       "    </tr>\n",
       "  </thead>\n",
       "  <tbody>\n",
       "    <tr>\n",
       "      <th>0</th>\n",
       "      <td>RNN</td>\n",
       "      <td>85.0</td>\n",
       "      <td>100.0</td>\n",
       "      <td>84.21</td>\n",
       "      <td>0.91</td>\n",
       "    </tr>\n",
       "  </tbody>\n",
       "</table>\n",
       "</div>"
      ],
      "text/plain": [
       "  Model  Accuracy(%)  Recall(%)  Precision(%)  F1 Score\n",
       "0   RNN         85.0      100.0         84.21      0.91"
      ]
     },
     "execution_count": 403,
     "metadata": {},
     "output_type": "execute_result"
    }
   ],
   "source": [
    "table"
   ]
  },
  {
   "cell_type": "markdown",
   "metadata": {},
   "source": [
    "### Confusion Matrix"
   ]
  },
  {
   "cell_type": "code",
   "execution_count": 404,
   "metadata": {},
   "outputs": [
    {
     "data": {
      "image/png": "[encoded data removed]",
      "text/plain": [
       "<Figure size 800x600 with 2 Axes>"
      ]
     },
     "metadata": {},
     "output_type": "display_data"
    }
   ],
   "source": [
    "# Define the class names\n",
    "class_names = np.unique(np.concatenate((y_test, y_pred)))\n",
    "\n",
    "# Calculate confusion matrix using scikit-learn\n",
    "cm = confusion_matrix(y_test, y_pred)\n",
    "\n",
    "plt.figure(figsize=(8, 6))\n",
    "sns.set(font_scale=1.4)\n",
    "sns.heatmap(cm, annot=True, fmt=\"d\", cmap=\"Blues\",\n",
    "            xticklabels=class_names, yticklabels=class_names)\n",
    "plt.title('RNN Confusion Matrix')\n",
    "plt.xlabel('Predicted')\n",
    "plt.ylabel('True')\n",
    "plt.show()"
   ]
  },
  {
   "cell_type": "markdown",
   "metadata": {},
   "source": [
    "### Cross Validation"
   ]
  },
  {
   "cell_type": "code",
   "execution_count": 405,
   "metadata": {},
   "outputs": [
    {
     "name": "stdout",
     "output_type": "stream",
     "text": [
      "Cross Validation Scores:  [ 70.  80.  90. 100.  80.  70.  70.  70.  50.  70.]\n",
      "Average CV Score:  75.0\n"
     ]
    }
   ],
   "source": [
    "# Number of folds is 10\n",
    "k_folds = KFold(n_splits = 10)\n",
    "\n",
    "# Get the scores for the 10 models\n",
    "y = np.reshape(y, (len(y),))\n",
    "cross_model_scores = cross_val_score(RNN_model, X, y, cv = k_folds)\n",
    "\n",
    "print(\"Cross Validation Scores: \", (cross_model_scores*100) )\n",
    "print(\"Average CV Score: \", round((cross_model_scores.mean()*100),2) )"
   ]
  },
  {
   "cell_type": "markdown",
   "metadata": {},
   "source": [
    "## Comparison between From scratch and Sklearn"
   ]
  },
  {
   "cell_type": "code",
   "execution_count": 406,
   "metadata": {},
   "outputs": [],
   "source": [
    "header = ['RNN Sklearn' , 'RNN From Scratch']\n",
    "table = pd.DataFrame( {\"Model\":header,\\\n",
    "                    \"Accuracy(%)\":[accuracy_sk , accuracy_sc] ,\\\n",
    "                    \"Recall(%)\":[recall_sk , recall_sc] ,\\\n",
    "                    \"Precision(%)\":[precision_sk , precision_sc] ,\\\n",
    "                    \"F1 Score\":[f1_score_sk , f1_score_sc]\n",
    "                    })"
   ]
  },
  {
   "cell_type": "code",
   "execution_count": 407,
   "metadata": {},
   "outputs": [
    {
     "data": {
      "text/html": [
       "<div>\n",
       "<style scoped>\n",
       "    .dataframe tbody tr th:only-of-type {\n",
       "        vertical-align: middle;\n",
       "    }\n",
       "\n",
       "    .dataframe tbody tr th {\n",
       "        vertical-align: top;\n",
       "    }\n",
       "\n",
       "    .dataframe thead th {\n",
       "        text-align: right;\n",
       "    }\n",
       "</style>\n",
       "<table border=\"1\" class=\"dataframe\">\n",
       "  <thead>\n",
       "    <tr style=\"text-align: right;\">\n",
       "      <th></th>\n",
       "      <th>Model</th>\n",
       "      <th>Accuracy(%)</th>\n",
       "      <th>Recall(%)</th>\n",
       "      <th>Precision(%)</th>\n",
       "      <th>F1 Score</th>\n",
       "    </tr>\n",
       "  </thead>\n",
       "  <tbody>\n",
       "    <tr>\n",
       "      <th>0</th>\n",
       "      <td>RNN Sklearn</td>\n",
       "      <td>85.0</td>\n",
       "      <td>100.0</td>\n",
       "      <td>84.21</td>\n",
       "      <td>0.91</td>\n",
       "    </tr>\n",
       "    <tr>\n",
       "      <th>1</th>\n",
       "      <td>RNN From Scratch</td>\n",
       "      <td>85.0</td>\n",
       "      <td>100.0</td>\n",
       "      <td>84.21</td>\n",
       "      <td>0.91</td>\n",
       "    </tr>\n",
       "  </tbody>\n",
       "</table>\n",
       "</div>"
      ],
      "text/plain": [
       "              Model  Accuracy(%)  Recall(%)  Precision(%)  F1 Score\n",
       "0       RNN Sklearn         85.0      100.0         84.21      0.91\n",
       "1  RNN From Scratch         85.0      100.0         84.21      0.91"
      ]
     },
     "execution_count": 407,
     "metadata": {},
     "output_type": "execute_result"
    }
   ],
   "source": [
    "table"
   ]
  }
 ],
 "metadata": {
  "kernelspec": {
   "display_name": "Local_env",
   "language": "python",
   "name": "python3"
  },
  "language_info": {
   "codemirror_mode": {
    "name": "ipython",
    "version": 3
   },
   "file_extension": ".py",
   "mimetype": "text/x-python",
   "name": "python",
   "nbconvert_exporter": "python",
   "pygments_lexer": "ipython3",
   "version": "3.11.6"
  }
 },
 "nbformat": 4,
 "nbformat_minor": 2
}
