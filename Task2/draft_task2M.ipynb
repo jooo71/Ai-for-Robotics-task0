{
 "cells": [
  {
   "cell_type": "code",
   "execution_count": 963,
   "metadata": {},
   "outputs": [],
   "source": [
    "import numpy as np\n",
    "import matplotlib.pyplot as plt\n",
    "import pandas as pd"
   ]
  },
  {
   "cell_type": "code",
   "execution_count": 964,
   "metadata": {},
   "outputs": [
    {
     "data": {
      "text/html": [
       "<div>\n",
       "<style scoped>\n",
       "    .dataframe tbody tr th:only-of-type {\n",
       "        vertical-align: middle;\n",
       "    }\n",
       "\n",
       "    .dataframe tbody tr th {\n",
       "        vertical-align: top;\n",
       "    }\n",
       "\n",
       "    .dataframe thead th {\n",
       "        text-align: right;\n",
       "    }\n",
       "</style>\n",
       "<table border=\"1\" class=\"dataframe\">\n",
       "  <thead>\n",
       "    <tr style=\"text-align: right;\">\n",
       "      <th></th>\n",
       "      <th>id</th>\n",
       "      <th>diagnosis_result</th>\n",
       "      <th>radius</th>\n",
       "      <th>texture</th>\n",
       "      <th>perimeter</th>\n",
       "      <th>area</th>\n",
       "      <th>smoothness</th>\n",
       "      <th>compactness</th>\n",
       "      <th>symmetry</th>\n",
       "      <th>fractal_dimension</th>\n",
       "    </tr>\n",
       "  </thead>\n",
       "  <tbody>\n",
       "    <tr>\n",
       "      <th>0</th>\n",
       "      <td>1</td>\n",
       "      <td>M</td>\n",
       "      <td>23</td>\n",
       "      <td>12</td>\n",
       "      <td>151</td>\n",
       "      <td>954</td>\n",
       "      <td>0.143</td>\n",
       "      <td>0.278</td>\n",
       "      <td>0.242</td>\n",
       "      <td>0.079</td>\n",
       "    </tr>\n",
       "    <tr>\n",
       "      <th>1</th>\n",
       "      <td>2</td>\n",
       "      <td>B</td>\n",
       "      <td>9</td>\n",
       "      <td>13</td>\n",
       "      <td>133</td>\n",
       "      <td>1326</td>\n",
       "      <td>0.143</td>\n",
       "      <td>0.079</td>\n",
       "      <td>0.181</td>\n",
       "      <td>0.057</td>\n",
       "    </tr>\n",
       "    <tr>\n",
       "      <th>2</th>\n",
       "      <td>3</td>\n",
       "      <td>M</td>\n",
       "      <td>21</td>\n",
       "      <td>27</td>\n",
       "      <td>130</td>\n",
       "      <td>1203</td>\n",
       "      <td>0.125</td>\n",
       "      <td>0.160</td>\n",
       "      <td>0.207</td>\n",
       "      <td>0.060</td>\n",
       "    </tr>\n",
       "    <tr>\n",
       "      <th>3</th>\n",
       "      <td>4</td>\n",
       "      <td>M</td>\n",
       "      <td>14</td>\n",
       "      <td>16</td>\n",
       "      <td>78</td>\n",
       "      <td>386</td>\n",
       "      <td>0.070</td>\n",
       "      <td>0.284</td>\n",
       "      <td>0.260</td>\n",
       "      <td>0.097</td>\n",
       "    </tr>\n",
       "    <tr>\n",
       "      <th>4</th>\n",
       "      <td>5</td>\n",
       "      <td>M</td>\n",
       "      <td>9</td>\n",
       "      <td>19</td>\n",
       "      <td>135</td>\n",
       "      <td>1297</td>\n",
       "      <td>0.141</td>\n",
       "      <td>0.133</td>\n",
       "      <td>0.181</td>\n",
       "      <td>0.059</td>\n",
       "    </tr>\n",
       "    <tr>\n",
       "      <th>...</th>\n",
       "      <td>...</td>\n",
       "      <td>...</td>\n",
       "      <td>...</td>\n",
       "      <td>...</td>\n",
       "      <td>...</td>\n",
       "      <td>...</td>\n",
       "      <td>...</td>\n",
       "      <td>...</td>\n",
       "      <td>...</td>\n",
       "      <td>...</td>\n",
       "    </tr>\n",
       "    <tr>\n",
       "      <th>95</th>\n",
       "      <td>96</td>\n",
       "      <td>M</td>\n",
       "      <td>23</td>\n",
       "      <td>16</td>\n",
       "      <td>132</td>\n",
       "      <td>1264</td>\n",
       "      <td>0.091</td>\n",
       "      <td>0.131</td>\n",
       "      <td>0.210</td>\n",
       "      <td>0.056</td>\n",
       "    </tr>\n",
       "    <tr>\n",
       "      <th>96</th>\n",
       "      <td>97</td>\n",
       "      <td>B</td>\n",
       "      <td>22</td>\n",
       "      <td>14</td>\n",
       "      <td>78</td>\n",
       "      <td>451</td>\n",
       "      <td>0.105</td>\n",
       "      <td>0.071</td>\n",
       "      <td>0.190</td>\n",
       "      <td>0.066</td>\n",
       "    </tr>\n",
       "    <tr>\n",
       "      <th>97</th>\n",
       "      <td>98</td>\n",
       "      <td>B</td>\n",
       "      <td>19</td>\n",
       "      <td>27</td>\n",
       "      <td>62</td>\n",
       "      <td>295</td>\n",
       "      <td>0.102</td>\n",
       "      <td>0.053</td>\n",
       "      <td>0.135</td>\n",
       "      <td>0.069</td>\n",
       "    </tr>\n",
       "    <tr>\n",
       "      <th>98</th>\n",
       "      <td>99</td>\n",
       "      <td>B</td>\n",
       "      <td>21</td>\n",
       "      <td>24</td>\n",
       "      <td>74</td>\n",
       "      <td>413</td>\n",
       "      <td>0.090</td>\n",
       "      <td>0.075</td>\n",
       "      <td>0.162</td>\n",
       "      <td>0.066</td>\n",
       "    </tr>\n",
       "    <tr>\n",
       "      <th>99</th>\n",
       "      <td>100</td>\n",
       "      <td>M</td>\n",
       "      <td>16</td>\n",
       "      <td>27</td>\n",
       "      <td>94</td>\n",
       "      <td>643</td>\n",
       "      <td>0.098</td>\n",
       "      <td>0.114</td>\n",
       "      <td>0.188</td>\n",
       "      <td>0.064</td>\n",
       "    </tr>\n",
       "  </tbody>\n",
       "</table>\n",
       "<p>100 rows × 10 columns</p>\n",
       "</div>"
      ],
      "text/plain": [
       "     id diagnosis_result  radius  texture  perimeter  area  smoothness  \\\n",
       "0     1                M      23       12        151   954       0.143   \n",
       "1     2                B       9       13        133  1326       0.143   \n",
       "2     3                M      21       27        130  1203       0.125   \n",
       "3     4                M      14       16         78   386       0.070   \n",
       "4     5                M       9       19        135  1297       0.141   \n",
       "..  ...              ...     ...      ...        ...   ...         ...   \n",
       "95   96                M      23       16        132  1264       0.091   \n",
       "96   97                B      22       14         78   451       0.105   \n",
       "97   98                B      19       27         62   295       0.102   \n",
       "98   99                B      21       24         74   413       0.090   \n",
       "99  100                M      16       27         94   643       0.098   \n",
       "\n",
       "    compactness  symmetry  fractal_dimension  \n",
       "0         0.278     0.242              0.079  \n",
       "1         0.079     0.181              0.057  \n",
       "2         0.160     0.207              0.060  \n",
       "3         0.284     0.260              0.097  \n",
       "4         0.133     0.181              0.059  \n",
       "..          ...       ...                ...  \n",
       "95        0.131     0.210              0.056  \n",
       "96        0.071     0.190              0.066  \n",
       "97        0.053     0.135              0.069  \n",
       "98        0.075     0.162              0.066  \n",
       "99        0.114     0.188              0.064  \n",
       "\n",
       "[100 rows x 10 columns]"
      ]
     },
     "execution_count": 964,
     "metadata": {},
     "output_type": "execute_result"
    }
   ],
   "source": [
    "Prostate_canser =pd.read_csv(\"D:\\Sho4l\\AI robotics\\Task2\\Prostate_Cancer.csv\")## Reading csv file and convert to data frame\n",
    "Prostate_canser"
   ]
  },
  {
   "cell_type": "code",
   "execution_count": 965,
   "metadata": {},
   "outputs": [
    {
     "data": {
      "text/html": [
       "<div>\n",
       "<style scoped>\n",
       "    .dataframe tbody tr th:only-of-type {\n",
       "        vertical-align: middle;\n",
       "    }\n",
       "\n",
       "    .dataframe tbody tr th {\n",
       "        vertical-align: top;\n",
       "    }\n",
       "\n",
       "    .dataframe thead th {\n",
       "        text-align: right;\n",
       "    }\n",
       "</style>\n",
       "<table border=\"1\" class=\"dataframe\">\n",
       "  <thead>\n",
       "    <tr style=\"text-align: right;\">\n",
       "      <th></th>\n",
       "      <th>id</th>\n",
       "      <th>radius</th>\n",
       "      <th>texture</th>\n",
       "      <th>perimeter</th>\n",
       "      <th>area</th>\n",
       "      <th>smoothness</th>\n",
       "      <th>compactness</th>\n",
       "      <th>symmetry</th>\n",
       "      <th>fractal_dimension</th>\n",
       "    </tr>\n",
       "  </thead>\n",
       "  <tbody>\n",
       "    <tr>\n",
       "      <th>count</th>\n",
       "      <td>100.000000</td>\n",
       "      <td>100.000000</td>\n",
       "      <td>100.000000</td>\n",
       "      <td>100.000000</td>\n",
       "      <td>100.000000</td>\n",
       "      <td>100.000000</td>\n",
       "      <td>100.000000</td>\n",
       "      <td>100.000000</td>\n",
       "      <td>100.000000</td>\n",
       "    </tr>\n",
       "    <tr>\n",
       "      <th>mean</th>\n",
       "      <td>50.500000</td>\n",
       "      <td>16.850000</td>\n",
       "      <td>18.230000</td>\n",
       "      <td>96.780000</td>\n",
       "      <td>702.880000</td>\n",
       "      <td>0.102730</td>\n",
       "      <td>0.126700</td>\n",
       "      <td>0.193170</td>\n",
       "      <td>0.064690</td>\n",
       "    </tr>\n",
       "    <tr>\n",
       "      <th>std</th>\n",
       "      <td>29.011492</td>\n",
       "      <td>4.879094</td>\n",
       "      <td>5.192954</td>\n",
       "      <td>23.676089</td>\n",
       "      <td>319.710895</td>\n",
       "      <td>0.014642</td>\n",
       "      <td>0.061144</td>\n",
       "      <td>0.030785</td>\n",
       "      <td>0.008151</td>\n",
       "    </tr>\n",
       "    <tr>\n",
       "      <th>min</th>\n",
       "      <td>1.000000</td>\n",
       "      <td>9.000000</td>\n",
       "      <td>11.000000</td>\n",
       "      <td>52.000000</td>\n",
       "      <td>202.000000</td>\n",
       "      <td>0.070000</td>\n",
       "      <td>0.038000</td>\n",
       "      <td>0.135000</td>\n",
       "      <td>0.053000</td>\n",
       "    </tr>\n",
       "    <tr>\n",
       "      <th>25%</th>\n",
       "      <td>25.750000</td>\n",
       "      <td>12.000000</td>\n",
       "      <td>14.000000</td>\n",
       "      <td>82.500000</td>\n",
       "      <td>476.750000</td>\n",
       "      <td>0.093500</td>\n",
       "      <td>0.080500</td>\n",
       "      <td>0.172000</td>\n",
       "      <td>0.059000</td>\n",
       "    </tr>\n",
       "    <tr>\n",
       "      <th>50%</th>\n",
       "      <td>50.500000</td>\n",
       "      <td>17.000000</td>\n",
       "      <td>17.500000</td>\n",
       "      <td>94.000000</td>\n",
       "      <td>644.000000</td>\n",
       "      <td>0.102000</td>\n",
       "      <td>0.118500</td>\n",
       "      <td>0.190000</td>\n",
       "      <td>0.063000</td>\n",
       "    </tr>\n",
       "    <tr>\n",
       "      <th>75%</th>\n",
       "      <td>75.250000</td>\n",
       "      <td>21.000000</td>\n",
       "      <td>22.250000</td>\n",
       "      <td>114.250000</td>\n",
       "      <td>917.000000</td>\n",
       "      <td>0.112000</td>\n",
       "      <td>0.157000</td>\n",
       "      <td>0.209000</td>\n",
       "      <td>0.069000</td>\n",
       "    </tr>\n",
       "    <tr>\n",
       "      <th>max</th>\n",
       "      <td>100.000000</td>\n",
       "      <td>25.000000</td>\n",
       "      <td>27.000000</td>\n",
       "      <td>172.000000</td>\n",
       "      <td>1878.000000</td>\n",
       "      <td>0.143000</td>\n",
       "      <td>0.345000</td>\n",
       "      <td>0.304000</td>\n",
       "      <td>0.097000</td>\n",
       "    </tr>\n",
       "  </tbody>\n",
       "</table>\n",
       "</div>"
      ],
      "text/plain": [
       "               id      radius     texture   perimeter         area  \\\n",
       "count  100.000000  100.000000  100.000000  100.000000   100.000000   \n",
       "mean    50.500000   16.850000   18.230000   96.780000   702.880000   \n",
       "std     29.011492    4.879094    5.192954   23.676089   319.710895   \n",
       "min      1.000000    9.000000   11.000000   52.000000   202.000000   \n",
       "25%     25.750000   12.000000   14.000000   82.500000   476.750000   \n",
       "50%     50.500000   17.000000   17.500000   94.000000   644.000000   \n",
       "75%     75.250000   21.000000   22.250000  114.250000   917.000000   \n",
       "max    100.000000   25.000000   27.000000  172.000000  1878.000000   \n",
       "\n",
       "       smoothness  compactness    symmetry  fractal_dimension  \n",
       "count  100.000000   100.000000  100.000000         100.000000  \n",
       "mean     0.102730     0.126700    0.193170           0.064690  \n",
       "std      0.014642     0.061144    0.030785           0.008151  \n",
       "min      0.070000     0.038000    0.135000           0.053000  \n",
       "25%      0.093500     0.080500    0.172000           0.059000  \n",
       "50%      0.102000     0.118500    0.190000           0.063000  \n",
       "75%      0.112000     0.157000    0.209000           0.069000  \n",
       "max      0.143000     0.345000    0.304000           0.097000  "
      ]
     },
     "execution_count": 965,
     "metadata": {},
     "output_type": "execute_result"
    }
   ],
   "source": [
    "Prostate_canser.describe()"
   ]
  },
  {
   "cell_type": "code",
   "execution_count": 966,
   "metadata": {},
   "outputs": [
    {
     "name": "stdout",
     "output_type": "stream",
     "text": [
      "<class 'pandas.core.frame.DataFrame'>\n",
      "RangeIndex: 100 entries, 0 to 99\n",
      "Data columns (total 10 columns):\n",
      " #   Column             Non-Null Count  Dtype  \n",
      "---  ------             --------------  -----  \n",
      " 0   id                 100 non-null    int64  \n",
      " 1   diagnosis_result   100 non-null    object \n",
      " 2   radius             100 non-null    int64  \n",
      " 3   texture            100 non-null    int64  \n",
      " 4   perimeter          100 non-null    int64  \n",
      " 5   area               100 non-null    int64  \n",
      " 6   smoothness         100 non-null    float64\n",
      " 7   compactness        100 non-null    float64\n",
      " 8   symmetry           100 non-null    float64\n",
      " 9   fractal_dimension  100 non-null    float64\n",
      "dtypes: float64(4), int64(5), object(1)\n",
      "memory usage: 7.9+ KB\n"
     ]
    }
   ],
   "source": [
    "Prostate_canser.info()"
   ]
  },
  {
   "cell_type": "code",
   "execution_count": 967,
   "metadata": {},
   "outputs": [
    {
     "data": {
      "text/plain": [
       "id                   0\n",
       "diagnosis_result     0\n",
       "radius               0\n",
       "texture              0\n",
       "perimeter            0\n",
       "area                 0\n",
       "smoothness           0\n",
       "compactness          0\n",
       "symmetry             0\n",
       "fractal_dimension    0\n",
       "dtype: int64"
      ]
     },
     "execution_count": 967,
     "metadata": {},
     "output_type": "execute_result"
    }
   ],
   "source": [
    "Prostate_canser.isna().sum() # calculates the total number of missing values in a DataFrame"
   ]
  },
  {
   "cell_type": "code",
   "execution_count": 968,
   "metadata": {},
   "outputs": [],
   "source": [
    "# Function to get the outliers of the given data using Z score.\n",
    "def zScoreOutliers(data,threshold):\n",
    "    outliers = []\n",
    "\n",
    "    # Set the threshold which we will use\n",
    "    threshold = threshold\n",
    "    mean = np.mean(data)\n",
    "    std = np.std(data)\n",
    "\n",
    "    # Calculate the Z score using this formula\n",
    "    z_score= (data - mean)/std\n",
    "\n",
    "    # Search for the outliers\n",
    "    for i in data:\n",
    "        z_score = (i - mean)/std \n",
    "        if np.abs(z_score) > threshold:\n",
    "            outliers.append(i)\n",
    "    return outliers"
   ]
  },
  {
   "cell_type": "code",
   "execution_count": 969,
   "metadata": {},
   "outputs": [],
   "source": [
    "def iqrOutliers(data):\n",
    "    outliers2 = []\n",
    "    sorted_list = sorted(data)\n",
    "    quantile1, quantile3 = np.percentile(sorted_list, [25,75])\n",
    "    iqr_value = quantile3-quantile1\n",
    "    lower_bound_val = quantile1 - (1.5 * iqr_value) \n",
    "    upper_bound_val = quantile3 + (1.5 * iqr_value)\n",
    "\n",
    "    for i in data:\n",
    "        if i < lower_bound_val or i > upper_bound_val:\n",
    "            outliers2.append(i)          \n",
    "    return outliers2"
   ]
  },
  {
   "cell_type": "code",
   "execution_count": 970,
   "metadata": {},
   "outputs": [
    {
     "name": "stdout",
     "output_type": "stream",
     "text": [
      "[]\n",
      "[]\n"
     ]
    }
   ],
   "source": [
    "outliers_z = zScoreOutliers(Prostate_canser[\"radius\"],3)\n",
    "outliers_iqr = iqrOutliers(Prostate_canser['radius'])\n",
    "print(outliers_z)\n",
    "print(outliers_iqr)"
   ]
  },
  {
   "cell_type": "code",
   "execution_count": 971,
   "metadata": {},
   "outputs": [
    {
     "name": "stdout",
     "output_type": "stream",
     "text": [
      "[]\n",
      "[]\n"
     ]
    }
   ],
   "source": [
    "outliers_z = zScoreOutliers(Prostate_canser[\"texture\"],3)\n",
    "outliers_iqr = iqrOutliers(Prostate_canser['texture'])\n",
    "print(outliers_z)\n",
    "print(outliers_iqr)"
   ]
  },
  {
   "cell_type": "code",
   "execution_count": 972,
   "metadata": {},
   "outputs": [
    {
     "name": "stdout",
     "output_type": "stream",
     "text": [
      "[172]\n",
      "[172]\n"
     ]
    }
   ],
   "source": [
    "outliers_z = zScoreOutliers(Prostate_canser[\"perimeter\"],3)\n",
    "outliers_iqr = iqrOutliers(Prostate_canser['perimeter'])\n",
    "print(outliers_z)\n",
    "print(outliers_iqr)"
   ]
  },
  {
   "cell_type": "code",
   "execution_count": 973,
   "metadata": {},
   "outputs": [
    {
     "name": "stdout",
     "output_type": "stream",
     "text": [
      "[1878]\n",
      "[1878]\n"
     ]
    }
   ],
   "source": [
    "outliers_z = zScoreOutliers(Prostate_canser[\"area\"],3)\n",
    "outliers_iqr = iqrOutliers(Prostate_canser['area'])\n",
    "print(outliers_z)\n",
    "print(outliers_iqr)"
   ]
  },
  {
   "cell_type": "code",
   "execution_count": 974,
   "metadata": {},
   "outputs": [
    {
     "name": "stdout",
     "output_type": "stream",
     "text": [
      "[0.143, 0.143, 0.07, 0.141]\n",
      "[0.143, 0.143, 0.141]\n"
     ]
    }
   ],
   "source": [
    "outliers_z = zScoreOutliers(Prostate_canser[\"smoothness\"],2)\n",
    "outliers_iqr = iqrOutliers(Prostate_canser['smoothness'])\n",
    "print(outliers_z)\n",
    "print(outliers_iqr)"
   ]
  },
  {
   "cell_type": "code",
   "execution_count": 975,
   "metadata": {},
   "outputs": [
    {
     "name": "stdout",
     "output_type": "stream",
     "text": [
      "[0.278, 0.284, 0.345, 0.267]\n",
      "[0.278, 0.284, 0.345]\n"
     ]
    }
   ],
   "source": [
    "outliers_z = zScoreOutliers(Prostate_canser[\"compactness\"],2)\n",
    "outliers_iqr = iqrOutliers(Prostate_canser['compactness'])\n",
    "print(outliers_z)\n",
    "print(outliers_iqr)"
   ]
  },
  {
   "cell_type": "code",
   "execution_count": 976,
   "metadata": {},
   "outputs": [
    {
     "name": "stdout",
     "output_type": "stream",
     "text": [
      "[0.304, 0.291]\n",
      "[0.304, 0.274, 0.291]\n"
     ]
    }
   ],
   "source": [
    "outliers_z = zScoreOutliers(Prostate_canser[\"symmetry\"],3)\n",
    "outliers_iqr = iqrOutliers(Prostate_canser['symmetry'])\n",
    "print(outliers_z)\n",
    "print(outliers_iqr)"
   ]
  },
  {
   "cell_type": "code",
   "execution_count": 977,
   "metadata": {},
   "outputs": [
    {
     "name": "stdout",
     "output_type": "stream",
     "text": [
      "[0.097, 0.09]\n",
      "[0.097, 0.09]\n"
     ]
    }
   ],
   "source": [
    "outliers_z = zScoreOutliers(Prostate_canser[\"fractal_dimension\"],3)\n",
    "outliers_iqr = iqrOutliers(Prostate_canser['fractal_dimension'])\n",
    "print(outliers_z)\n",
    "print(outliers_iqr)"
   ]
  },
  {
   "cell_type": "code",
   "execution_count": 978,
   "metadata": {},
   "outputs": [
    {
     "data": {
      "image/png": "[encoded data removed]",
      "text/plain": [
       "<Figure size 432x288 with 1 Axes>"
      ]
     },
     "metadata": {
      "needs_background": "light"
     },
     "output_type": "display_data"
    }
   ],
   "source": [
    "plt.boxplot(Prostate_canser['radius'])\n",
    "plt.title(\"radius\")\n",
    "plt.show()"
   ]
  },
  {
   "cell_type": "code",
   "execution_count": 979,
   "metadata": {},
   "outputs": [
    {
     "data": {
      "image/png": "[encoded data removed]",
      "text/plain": [
       "<Figure size 432x288 with 1 Axes>"
      ]
     },
     "metadata": {
      "needs_background": "light"
     },
     "output_type": "display_data"
    }
   ],
   "source": [
    "plt.boxplot(Prostate_canser['texture'])\n",
    "plt.title(\"texture\")\n",
    "plt.show()"
   ]
  },
  {
   "cell_type": "code",
   "execution_count": 980,
   "metadata": {},
   "outputs": [
    {
     "data": {
      "image/png": "[encoded data removed]",
      "text/plain": [
       "<Figure size 432x288 with 1 Axes>"
      ]
     },
     "metadata": {
      "needs_background": "light"
     },
     "output_type": "display_data"
    }
   ],
   "source": [
    "plt.boxplot(Prostate_canser['perimeter'])\n",
    "plt.title(\"perimeter\")\n",
    "plt.show()"
   ]
  },
  {
   "cell_type": "code",
   "execution_count": 981,
   "metadata": {},
   "outputs": [
    {
     "data": {
      "image/png": "[encoded data removed]",
      "text/plain": [
       "<Figure size 432x288 with 1 Axes>"
      ]
     },
     "metadata": {
      "needs_background": "light"
     },
     "output_type": "display_data"
    }
   ],
   "source": [
    "plt.boxplot(Prostate_canser['area'])\n",
    "plt.title(\"area\")\n",
    "plt.show()"
   ]
  },
  {
   "cell_type": "code",
   "execution_count": 982,
   "metadata": {},
   "outputs": [
    {
     "data": {
      "image/png": "[encoded data removed]",
      "text/plain": [
       "<Figure size 432x288 with 1 Axes>"
      ]
     },
     "metadata": {
      "needs_background": "light"
     },
     "output_type": "display_data"
    }
   ],
   "source": [
    "plt.boxplot(Prostate_canser['smoothness'])\n",
    "plt.title(\"smoothness\")\n",
    "plt.show()"
   ]
  },
  {
   "cell_type": "code",
   "execution_count": 983,
   "metadata": {},
   "outputs": [
    {
     "data": {
      "image/png": "[encoded data removed]",
      "text/plain": [
       "<Figure size 432x288 with 1 Axes>"
      ]
     },
     "metadata": {
      "needs_background": "light"
     },
     "output_type": "display_data"
    }
   ],
   "source": [
    "plt.boxplot(Prostate_canser['compactness'])\n",
    "plt.title(\"compactness\")\n",
    "plt.show()"
   ]
  },
  {
   "cell_type": "code",
   "execution_count": 984,
   "metadata": {},
   "outputs": [
    {
     "data": {
      "image/png": "[encoded data removed]",
      "text/plain": [
       "<Figure size 432x288 with 1 Axes>"
      ]
     },
     "metadata": {
      "needs_background": "light"
     },
     "output_type": "display_data"
    }
   ],
   "source": [
    "plt.boxplot(Prostate_canser['symmetry'])\n",
    "plt.title(\"symmetry\")\n",
    "plt.show()"
   ]
  },
  {
   "cell_type": "code",
   "execution_count": 985,
   "metadata": {},
   "outputs": [
    {
     "data": {
      "image/png": "[encoded data removed]",
      "text/plain": [
       "<Figure size 432x288 with 1 Axes>"
      ]
     },
     "metadata": {
      "needs_background": "light"
     },
     "output_type": "display_data"
    }
   ],
   "source": [
    "plt.boxplot(Prostate_canser['fractal_dimension'])\n",
    "plt.title(\"fractal_dimension\")\n",
    "plt.show()"
   ]
  },
  {
   "cell_type": "code",
   "execution_count": 986,
   "metadata": {},
   "outputs": [
    {
     "name": "stdout",
     "output_type": "stream",
     "text": [
      "[[1.000e+00 2.300e+01 1.200e+01 1.510e+02 9.540e+02 1.430e-01 2.780e-01\n",
      "  2.420e-01 7.900e-02]\n",
      " [2.000e+00 9.000e+00 1.300e+01 1.330e+02 1.326e+03 1.430e-01 7.900e-02\n",
      "  1.810e-01 5.700e-02]\n",
      " [3.000e+00 2.100e+01 2.700e+01 1.300e+02 1.203e+03 1.250e-01 1.600e-01\n",
      "  2.070e-01 6.000e-02]\n",
      " [4.000e+00 1.400e+01 1.600e+01 7.800e+01 3.860e+02 7.000e-02 2.840e-01\n",
      "  2.600e-01 9.700e-02]\n",
      " [5.000e+00 9.000e+00 1.900e+01 1.350e+02 1.297e+03 1.410e-01 1.330e-01\n",
      "  1.810e-01 5.900e-02]\n",
      " [6.000e+00 2.500e+01 2.500e+01 8.300e+01 4.770e+02 1.280e-01 1.700e-01\n",
      "  2.090e-01 7.600e-02]\n",
      " [7.000e+00 1.600e+01 2.600e+01 1.200e+02 1.040e+03 9.500e-02 1.090e-01\n",
      "  1.790e-01 5.700e-02]\n",
      " [8.000e+00 1.500e+01 1.800e+01 9.000e+01 5.780e+02 1.190e-01 1.650e-01\n",
      "  2.200e-01 7.500e-02]\n",
      " [9.000e+00 1.900e+01 2.400e+01 8.800e+01 5.200e+02 1.270e-01 1.930e-01\n",
      "  2.350e-01 7.400e-02]\n",
      " [1.000e+01 2.500e+01 1.100e+01 8.400e+01 4.760e+02 1.190e-01 2.400e-01\n",
      "  2.030e-01 8.200e-02]\n",
      " [1.100e+01 2.400e+01 2.100e+01 1.030e+02 7.980e+02 8.200e-02 6.700e-02\n",
      "  1.530e-01 5.700e-02]\n",
      " [1.200e+01 1.700e+01 1.500e+01 1.040e+02 7.810e+02 9.700e-02 1.290e-01\n",
      "  1.840e-01 6.100e-02]\n",
      " [1.300e+01 1.400e+01 1.500e+01 1.320e+02 1.123e+03 9.700e-02 2.460e-01\n",
      "  2.400e-01 7.800e-02]\n",
      " [1.400e+01 1.200e+01 2.200e+01 1.040e+02 7.830e+02 8.400e-02 1.000e-01\n",
      "  1.850e-01 5.300e-02]\n",
      " [1.500e+01 1.200e+01 1.300e+01 9.400e+01 5.780e+02 1.130e-01 2.290e-01\n",
      "  2.070e-01 7.700e-02]\n",
      " [1.600e+01 2.200e+01 1.900e+01 9.700e+01 6.590e+02 1.140e-01 1.600e-01\n",
      "  2.300e-01 7.100e-02]\n",
      " [1.700e+01 1.000e+01 1.600e+01 9.500e+01 6.850e+02 9.900e-02 7.200e-02\n",
      "  1.590e-01 5.900e-02]\n",
      " [1.800e+01 1.500e+01 1.400e+01 1.080e+02 7.990e+02 1.170e-01 2.020e-01\n",
      "  2.160e-01 7.400e-02]\n",
      " [1.900e+01 2.000e+01 1.400e+01 1.300e+02 1.260e+03 9.800e-02 1.030e-01\n",
      "  1.580e-01 5.400e-02]\n",
      " [2.000e+01 1.700e+01 1.100e+01 8.700e+01 5.660e+02 9.800e-02 8.100e-02\n",
      "  1.890e-01 5.800e-02]\n",
      " [2.100e+01 1.600e+01 1.400e+01 8.600e+01 5.200e+02 1.080e-01 1.270e-01\n",
      "  1.970e-01 6.800e-02]\n",
      " [2.200e+01 1.700e+01 2.400e+01 6.000e+01 2.740e+02 1.020e-01 6.500e-02\n",
      "  1.820e-01 6.900e-02]\n",
      " [2.300e+01 2.000e+01 2.700e+01 1.030e+02 7.040e+02 1.070e-01 2.140e-01\n",
      "  2.520e-01 7.000e-02]\n",
      " [2.400e+01 1.900e+01 1.200e+01 1.370e+02 1.404e+03 9.400e-02 1.020e-01\n",
      "  1.770e-01 5.300e-02]\n",
      " [2.500e+01 9.000e+00 1.300e+01 1.100e+02 9.050e+02 1.120e-01 1.460e-01\n",
      "  2.000e-01 6.300e-02]\n",
      " [2.600e+01 1.900e+01 2.700e+01 1.160e+02 9.130e+02 1.190e-01 2.280e-01\n",
      "  3.040e-01 7.400e-02]\n",
      " [2.700e+01 1.000e+01 2.400e+01 9.700e+01 6.450e+02 1.050e-01 1.870e-01\n",
      "  2.250e-01 6.900e-02]\n",
      " [2.800e+01 1.600e+01 2.400e+01 1.220e+02 1.094e+03 9.400e-02 1.070e-01\n",
      "  1.700e-01 5.700e-02]\n",
      " [2.900e+01 1.500e+01 1.500e+01 1.020e+02 7.320e+02 1.080e-01 1.700e-01\n",
      "  1.930e-01 6.500e-02]\n",
      " [3.000e+01 1.100e+01 1.600e+01 1.150e+02 9.550e+02 9.800e-02 1.160e-01\n",
      "  1.740e-01 6.100e-02]\n",
      " [3.100e+01 1.100e+01 2.200e+01 1.250e+02 1.088e+03 1.060e-01 1.890e-01\n",
      "  2.180e-01 6.200e-02]\n",
      " [3.200e+01 2.300e+01 2.600e+01 7.800e+01 4.410e+02 1.110e-01 1.520e-01\n",
      "  2.300e-01 7.800e-02]\n",
      " [3.300e+01 2.000e+01 1.800e+01 1.130e+02 8.990e+02 1.200e-01 1.500e-01\n",
      "  2.250e-01 6.400e-02]\n",
      " [3.400e+01 1.100e+01 2.100e+01 1.280e+02 1.162e+03 9.400e-02 1.720e-01\n",
      "  1.850e-01 6.300e-02]\n",
      " [3.500e+01 1.600e+01 2.300e+01 1.070e+02 8.070e+02 1.040e-01 1.560e-01\n",
      "  2.000e-01 6.500e-02]\n",
      " [3.600e+01 1.000e+01 1.300e+01 1.100e+02 8.700e+02 9.600e-02 1.340e-01\n",
      "  1.900e-01 5.700e-02]\n",
      " [3.700e+01 1.800e+01 1.200e+01 9.400e+01 6.330e+02 9.800e-02 1.100e-01\n",
      "  1.890e-01 6.100e-02]\n",
      " [3.800e+01 2.100e+01 1.100e+01 8.300e+01 5.240e+02 9.000e-02 3.800e-02\n",
      "  1.470e-01 5.900e-02]\n",
      " [3.900e+01 1.100e+01 1.500e+01 9.600e+01 6.990e+02 9.400e-02 5.100e-02\n",
      "  1.570e-01 5.500e-02]\n",
      " [4.000e+01 1.000e+01 1.400e+01 8.800e+01 5.590e+02 1.020e-01 1.260e-01\n",
      "  1.720e-01 6.400e-02]\n",
      " [4.100e+01 2.400e+01 1.600e+01 8.600e+01 5.630e+02 8.200e-02 6.000e-02\n",
      "  1.780e-01 5.600e-02]\n",
      " [4.200e+01 1.900e+01 2.700e+01 7.200e+01 3.710e+02 1.230e-01 1.220e-01\n",
      "  1.900e-01 6.900e-02]\n",
      " [4.300e+01 1.100e+01 1.100e+01 1.280e+02 1.104e+03 9.100e-02 2.190e-01\n",
      "  2.310e-01 6.300e-02]\n",
      " [4.400e+01 1.500e+01 2.100e+01 8.700e+01 5.450e+02 1.040e-01 1.440e-01\n",
      "  1.970e-01 6.800e-02]\n",
      " [4.500e+01 1.000e+01 1.500e+01 8.500e+01 5.320e+02 9.700e-02 1.050e-01\n",
      "  1.750e-01 6.200e-02]\n",
      " [4.600e+01 1.800e+01 1.100e+01 1.240e+02 1.076e+03 1.100e-01 1.690e-01\n",
      "  1.910e-01 6.000e-02]\n",
      " [4.700e+01 2.200e+01 1.200e+01 5.200e+01 2.020e+02 8.600e-02 5.900e-02\n",
      "  1.770e-01 6.500e-02]\n",
      " [4.800e+01 2.000e+01 1.400e+01 8.600e+01 5.350e+02 1.160e-01 1.230e-01\n",
      "  2.130e-01 6.800e-02]\n",
      " [4.900e+01 2.000e+01 2.100e+01 7.800e+01 4.490e+02 1.030e-01 9.100e-02\n",
      "  1.680e-01 6.000e-02]\n",
      " [5.000e+01 2.500e+01 1.100e+01 8.700e+01 5.610e+02 8.800e-02 7.700e-02\n",
      "  1.810e-01 5.700e-02]\n",
      " [5.100e+01 1.900e+01 2.500e+01 7.500e+01 4.280e+02 8.600e-02 5.000e-02\n",
      "  1.500e-01 5.900e-02]\n",
      " [5.200e+01 1.900e+01 2.200e+01 8.700e+01 5.720e+02 7.700e-02 6.100e-02\n",
      "  1.350e-01 6.000e-02]\n",
      " [5.300e+01 2.500e+01 1.500e+01 7.600e+01 4.380e+02 8.300e-02 4.800e-02\n",
      "  1.870e-01 6.100e-02]\n",
      " [5.400e+01 1.400e+01 2.600e+01 1.200e+02 1.033e+03 1.150e-01 1.490e-01\n",
      "  2.090e-01 6.300e-02]\n",
      " [5.500e+01 1.800e+01 2.500e+01 9.700e+01 7.130e+02 9.100e-02 7.100e-02\n",
      "  1.620e-01 5.700e-02]\n",
      " [5.600e+01 1.800e+01 1.300e+01 7.300e+01 4.090e+02 9.500e-02 5.500e-02\n",
      "  1.920e-01 5.900e-02]\n",
      " [5.700e+01 1.000e+01 1.900e+01 1.260e+02 1.152e+03 1.050e-01 1.270e-01\n",
      "  1.920e-01 6.000e-02]\n",
      " [5.800e+01 1.700e+01 2.000e+01 9.600e+01 6.570e+02 1.140e-01 1.370e-01\n",
      "  2.030e-01 6.800e-02]\n",
      " [5.900e+01 2.200e+01 1.500e+01 8.300e+01 5.270e+02 8.100e-02 3.800e-02\n",
      "  1.820e-01 5.500e-02]\n",
      " [6.000e+01 2.300e+01 2.600e+01 5.400e+01 2.250e+02 9.800e-02 5.300e-02\n",
      "  1.680e-01 7.200e-02]\n",
      " [6.100e+01 1.500e+01 1.800e+01 6.500e+01 3.120e+02 1.130e-01 8.100e-02\n",
      "  2.740e-01 7.000e-02]\n",
      " [6.200e+01 2.500e+01 1.500e+01 5.500e+01 2.220e+02 1.240e-01 9.000e-02\n",
      "  1.830e-01 6.800e-02]\n",
      " [6.300e+01 1.200e+01 2.200e+01 9.600e+01 6.460e+02 1.050e-01 2.010e-01\n",
      "  1.950e-01 7.300e-02]\n",
      " [6.400e+01 2.400e+01 1.700e+01 5.900e+01 2.610e+02 7.700e-02 8.800e-02\n",
      "  2.340e-01 7.000e-02]\n",
      " [6.500e+01 1.600e+01 1.900e+01 8.300e+01 4.990e+02 1.120e-01 1.260e-01\n",
      "  1.910e-01 6.600e-02]\n",
      " [6.600e+01 1.100e+01 2.100e+01 9.700e+01 6.680e+02 1.170e-01 1.480e-01\n",
      "  1.950e-01 6.700e-02]\n",
      " [6.700e+01 1.200e+01 1.300e+01 6.000e+01 2.690e+02 1.040e-01 7.800e-02\n",
      "  1.720e-01 6.900e-02]\n",
      " [6.800e+01 1.800e+01 1.200e+01 7.200e+01 3.940e+02 8.100e-02 4.700e-02\n",
      "  1.520e-01 5.700e-02]\n",
      " [6.900e+01 1.600e+01 1.700e+01 5.900e+01 2.510e+02 1.070e-01 1.410e-01\n",
      "  2.110e-01 8.000e-02]\n",
      " [7.000e+01 1.700e+01 2.100e+01 8.100e+01 5.030e+02 9.800e-02 5.200e-02\n",
      "  1.590e-01 5.700e-02]\n",
      " [7.100e+01 2.100e+01 1.800e+01 1.240e+02 1.130e+03 9.000e-02 1.030e-01\n",
      "  1.580e-01 5.500e-02]\n",
      " [7.200e+01 9.000e+00 2.600e+01 5.900e+01 2.440e+02 9.800e-02 1.530e-01\n",
      "  1.900e-01 9.000e-02]\n",
      " [7.300e+01 2.100e+01 1.200e+01 1.140e+02 9.290e+02 1.070e-01 1.830e-01\n",
      "  1.930e-01 6.500e-02]\n",
      " [7.400e+01 2.200e+01 2.500e+01 9.000e+01 5.840e+02 1.010e-01 1.280e-01\n",
      "  1.660e-01 6.600e-02]\n",
      " [7.500e+01 1.800e+01 1.300e+01 7.900e+01 4.710e+02 9.200e-02 6.800e-02\n",
      "  1.720e-01 5.900e-02]\n",
      " [7.600e+01 2.100e+01 1.800e+01 1.040e+02 8.180e+02 9.200e-02 8.400e-02\n",
      "  1.800e-01 5.400e-02]\n",
      " [7.700e+01 1.000e+01 1.700e+01 8.800e+01 5.590e+02 1.290e-01 1.050e-01\n",
      "  2.400e-01 6.600e-02]\n",
      " [7.800e+01 1.100e+01 2.100e+01 1.200e+02 1.006e+03 1.070e-01 2.150e-01\n",
      "  2.150e-01 6.700e-02]\n",
      " [7.900e+01 1.600e+01 1.800e+01 1.440e+02 1.245e+03 1.290e-01 3.450e-01\n",
      "  2.910e-01 8.100e-02]\n",
      " [8.000e+01 2.200e+01 1.600e+01 8.300e+01 5.060e+02 9.900e-02 9.500e-02\n",
      "  1.720e-01 6.000e-02]\n",
      " [8.100e+01 1.000e+01 1.800e+01 7.400e+01 4.020e+02 1.100e-01 9.400e-02\n",
      "  1.840e-01 7.000e-02]\n",
      " [8.200e+01 1.700e+01 2.100e+01 8.600e+01 5.200e+02 1.080e-01 1.540e-01\n",
      "  1.940e-01 6.900e-02]\n",
      " [8.300e+01 1.000e+01 1.500e+01 1.720e+02 1.878e+03 1.060e-01 2.670e-01\n",
      "  1.830e-01 6.800e-02]\n",
      " [8.400e+01 2.000e+01 1.400e+01 1.290e+02 1.132e+03 1.220e-01 1.790e-01\n",
      "  1.630e-01 7.200e-02]\n",
      " [8.500e+01 2.500e+01 2.100e+01 7.700e+01 4.430e+02 9.700e-02 7.200e-02\n",
      "  2.080e-01 6.000e-02]\n",
      " [8.600e+01 1.400e+01 1.300e+01 1.210e+02 1.075e+03 9.900e-02 1.050e-01\n",
      "  2.130e-01 6.000e-02]\n",
      " [8.700e+01 1.900e+01 2.600e+01 9.400e+01 6.480e+02 9.400e-02 9.900e-02\n",
      "  2.080e-01 5.600e-02]\n",
      " [8.800e+01 1.900e+01 1.100e+01 1.220e+02 1.076e+03 9.000e-02 1.210e-01\n",
      "  1.950e-01 5.600e-02]\n",
      " [8.900e+01 1.100e+01 1.100e+01 8.000e+01 4.660e+02 8.800e-02 9.400e-02\n",
      "  1.930e-01 6.400e-02]\n",
      " [9.000e+01 1.200e+01 2.300e+01 9.600e+01 6.520e+02 1.130e-01 1.340e-01\n",
      "  2.120e-01 6.300e-02]\n",
      " [9.100e+01 2.300e+01 2.700e+01 9.500e+01 6.630e+02 9.000e-02 8.600e-02\n",
      "  1.690e-01 5.900e-02]\n",
      " [9.200e+01 1.000e+01 1.200e+01 1.000e+02 7.280e+02 9.200e-02 1.040e-01\n",
      "  1.720e-01 6.100e-02]\n",
      " [9.300e+01 1.400e+01 1.400e+01 8.500e+01 5.520e+02 7.400e-02 5.100e-02\n",
      "  1.390e-01 5.300e-02]\n",
      " [9.400e+01 1.000e+01 1.700e+01 8.700e+01 5.550e+02 1.020e-01 8.200e-02\n",
      "  1.640e-01 5.700e-02]\n",
      " [9.500e+01 2.200e+01 2.600e+01 1.000e+02 7.060e+02 1.040e-01 1.550e-01\n",
      "  1.860e-01 6.300e-02]\n",
      " [9.600e+01 2.300e+01 1.600e+01 1.320e+02 1.264e+03 9.100e-02 1.310e-01\n",
      "  2.100e-01 5.600e-02]\n",
      " [9.700e+01 2.200e+01 1.400e+01 7.800e+01 4.510e+02 1.050e-01 7.100e-02\n",
      "  1.900e-01 6.600e-02]\n",
      " [9.800e+01 1.900e+01 2.700e+01 6.200e+01 2.950e+02 1.020e-01 5.300e-02\n",
      "  1.350e-01 6.900e-02]\n",
      " [9.900e+01 2.100e+01 2.400e+01 7.400e+01 4.130e+02 9.000e-02 7.500e-02\n",
      "  1.620e-01 6.600e-02]]\n"
     ]
    }
   ],
   "source": [
    "x_train = Prostate_canser.drop(\"diagnosis_result\",axis=1)\n",
    "x_train.drop(x_train.tail(1).index,inplace = True)\n",
    "x_train=x_train.values        \n",
    "\n",
    "print(x_train)\n",
    "# len(x_train)"
   ]
  },
  {
   "cell_type": "code",
   "execution_count": 987,
   "metadata": {},
   "outputs": [
    {
     "name": "stdout",
     "output_type": "stream",
     "text": [
      "[[0]\n",
      " [1]\n",
      " [0]\n",
      " [0]\n",
      " [0]\n",
      " [1]\n",
      " [0]\n",
      " [0]\n",
      " [0]\n",
      " [0]\n",
      " [0]\n",
      " [0]\n",
      " [1]\n",
      " [0]\n",
      " [0]\n",
      " [0]\n",
      " [0]\n",
      " [0]\n",
      " [0]\n",
      " [1]\n",
      " [1]\n",
      " [1]\n",
      " [0]\n",
      " [0]\n",
      " [0]\n",
      " [0]\n",
      " [0]\n",
      " [0]\n",
      " [0]\n",
      " [0]\n",
      " [0]\n",
      " [0]\n",
      " [0]\n",
      " [0]\n",
      " [0]\n",
      " [0]\n",
      " [0]\n",
      " [1]\n",
      " [0]\n",
      " [0]\n",
      " [0]\n",
      " [0]\n",
      " [0]\n",
      " [0]\n",
      " [0]\n",
      " [0]\n",
      " [1]\n",
      " [0]\n",
      " [1]\n",
      " [1]\n",
      " [1]\n",
      " [1]\n",
      " [1]\n",
      " [0]\n",
      " [0]\n",
      " [1]\n",
      " [0]\n",
      " [0]\n",
      " [1]\n",
      " [1]\n",
      " [1]\n",
      " [1]\n",
      " [0]\n",
      " [1]\n",
      " [0]\n",
      " [0]\n",
      " [1]\n",
      " [1]\n",
      " [1]\n",
      " [1]\n",
      " [0]\n",
      " [1]\n",
      " [0]\n",
      " [0]\n",
      " [1]\n",
      " [0]\n",
      " [1]\n",
      " [0]\n",
      " [0]\n",
      " [1]\n",
      " [1]\n",
      " [1]\n",
      " [0]\n",
      " [0]\n",
      " [1]\n",
      " [0]\n",
      " [0]\n",
      " [0]\n",
      " [1]\n",
      " [1]\n",
      " [1]\n",
      " [0]\n",
      " [1]\n",
      " [1]\n",
      " [0]\n",
      " [0]\n",
      " [1]\n",
      " [1]\n",
      " [1]]\n"
     ]
    }
   ],
   "source": [
    "\n",
    "y_train =Prostate_canser[\"diagnosis_result\"] # to make lables without inputs in array\n",
    "y_train = y_train.map({'M':0 , 'B':1})\n",
    "y_train.drop(y_train.tail(1).index,inplace = True)\n",
    "y_train = y_train.values\n",
    "\n",
    "        \n",
    "y= y_train.reshape(len(y_train),1)\n",
    "print(y)"
   ]
  },
  {
   "cell_type": "code",
   "execution_count": 988,
   "metadata": {},
   "outputs": [],
   "source": [
    "def distance_ecq(x_traain,x_test_point):\n",
    "    distances=[]\n",
    "    for row in range(len(x_traain)) : #loop over rows in x_train\n",
    "        current_train_piont = x_traain[row]\n",
    "        # print(current_train_piont.shape)\n",
    "        current_distance = 0    #initalize distance zero\n",
    "        # for eacr_row\n",
    "        for column in range(len(current_train_piont)): # loop over columns(feature) in each row of x_train\n",
    "            current_distance += (current_train_piont[column]-x_test_point[column])**2\n",
    "        # current_distance = np.subtract(current_train_piont,x_test_point)\n",
    "        # acummalation = np.sum(np.square(current_distance)) \n",
    "        current_distance=np.sqrt(current_distance)\n",
    "        # print(x_test_point.shape)\n",
    "        distances.append(current_distance)\n",
    "    # distances = pd.DataFrame(data=distances, columns=[\"dist\"])\n",
    "    return distances "
   ]
  },
  {
   "cell_type": "code",
   "execution_count": 989,
   "metadata": {},
   "outputs": [],
   "source": [
    "def nearest_neighbour(distance_point,k):\n",
    "    # distance point: distance between test point and each ponit in tranining \n",
    "    # k : number of neighbours to consider for prediction\n",
    "    nearest_neighbors_indices = np.argsort(distance_point)[:k]  ##index prediction\n",
    "    # print(nearest_neighbors_indices)        \n",
    "    return nearest_neighbors_indices\n",
    "    "
   ]
  },
  {
   "cell_type": "code",
   "execution_count": 990,
   "metadata": {},
   "outputs": [],
   "source": [
    "def voting (df_nearst , y_traain):\n",
    "    nearest_neighbors_classes = y_traain[df_nearst]         ## prediction of index from past function\n",
    "    X_flattened = nearest_neighbors_classes.flatten() ## convert from 2 dimension to 1 dimension\n",
    "    # print(nearest_neighbors_classes)\n",
    "    # print(X_flattened)\n",
    "    prediction = np.argmax(np.bincount(X_flattened))  ## ygeeb aktr 7aga etkrrt\n",
    "    # print(prediction)\n",
    "    return prediction"
   ]
  },
  {
   "cell_type": "code",
   "execution_count": 991,
   "metadata": {},
   "outputs": [
    {
     "data": {
      "text/plain": [
       "(1, 9)"
      ]
     },
     "execution_count": 991,
     "metadata": {},
     "output_type": "execute_result"
    }
   ],
   "source": [
    "x_test = Prostate_canser.tail(1).drop(\"diagnosis_result\",axis=1).values #choose data to using in test\n",
    "x_test.shape"
   ]
  },
  {
   "cell_type": "code",
   "execution_count": 992,
   "metadata": {},
   "outputs": [],
   "source": [
    "def predict(predict_num):\n",
    "    predict_string = []\n",
    "    for i in predict_num:\n",
    "        if i == 1:\n",
    "            predict_string.append(\"B\")\n",
    "        else:\n",
    "            predict_string.append(\"M\")\n",
    "    return predict_string"
   ]
  },
  {
   "cell_type": "code",
   "execution_count": 993,
   "metadata": {},
   "outputs": [],
   "source": [
    "def knn_from_scratch(x_train , y_train ,x_test , k):\n",
    "    y_pred = []\n",
    "    for x_test_point in x_test:\n",
    "        distance_point = distance_ecq(x_train,x_test_point)\n",
    "        df_nearst_point = nearest_neighbour(distance_point, k)\n",
    "        y_pred_point = voting(df_nearst_point,y_train)\n",
    "        y_pred.append(y_pred_point)\n",
    "        predict_string = predict(y_pred)\n",
    "\n",
    "    return predict_string"
   ]
  },
  {
   "cell_type": "code",
   "execution_count": 994,
   "metadata": {},
   "outputs": [
    {
     "name": "stdout",
     "output_type": "stream",
     "text": [
      "(99, 9)\n",
      "(99, 1)\n",
      "(1, 9)\n"
     ]
    },
    {
     "data": {
      "text/plain": [
       "['B']"
      ]
     },
     "execution_count": 994,
     "metadata": {},
     "output_type": "execute_result"
    }
   ],
   "source": [
    "print(x_train.shape)\n",
    "print(y.shape)\n",
    "print(x_test.shape)\n",
    "k=3 \n",
    "y_pred_scratch = knn_from_scratch(x_train,y,x_test,k)\n",
    "y_pred_scratch\n"
   ]
  },
  {
   "cell_type": "code",
   "execution_count": 995,
   "metadata": {},
   "outputs": [
    {
     "data": {
      "text/plain": [
       "64"
      ]
     },
     "execution_count": 995,
     "metadata": {},
     "output_type": "execute_result"
    }
   ],
   "source": [
    "x = [1,2,3,4]\n",
    "q = [5,6,7,8]\n",
    "r =np.subtract(x,q)\n",
    "suma =np.sum(np.square(r)) \n",
    "suma"
   ]
  },
  {
   "cell_type": "code",
   "execution_count": null,
   "metadata": {},
   "outputs": [],
   "source": []
  }
 ],
 "metadata": {
  "kernelspec": {
   "display_name": "base",
   "language": "python",
   "name": "python3"
  },
  "language_info": {
   "codemirror_mode": {
    "name": "ipython",
    "version": 3
   },
   "file_extension": ".py",
   "mimetype": "text/x-python",
   "name": "python",
   "nbconvert_exporter": "python",
   "pygments_lexer": "ipython3",
   "version": "3.9.12"
  }
 },
 "nbformat": 4,
 "nbformat_minor": 2
}
